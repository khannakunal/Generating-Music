{
 "cells": [
  {
   "cell_type": "code",
   "execution_count": 1,
   "metadata": {},
   "outputs": [
    {
     "name": "stderr",
     "output_type": "stream",
     "text": [
      "C:\\ProgramData\\Anaconda3\\lib\\site-packages\\h5py\\__init__.py:36: FutureWarning: Conversion of the second argument of issubdtype from `float` to `np.floating` is deprecated. In future, it will be treated as `np.float64 == np.dtype(float).type`.\n",
      "  from ._conv import register_converters as _register_converters\n",
      "Using TensorFlow backend.\n"
     ]
    },
    {
     "name": "stdout",
     "output_type": "stream",
     "text": [
      "WARNING:tensorflow:From C:\\ProgramData\\Anaconda3\\lib\\site-packages\\tensorflow\\python\\framework\\op_def_library.py:263: colocate_with (from tensorflow.python.framework.ops) is deprecated and will be removed in a future version.\n",
      "Instructions for updating:\n",
      "Colocations handled automatically by placer.\n",
      "WARNING:tensorflow:From C:\\ProgramData\\Anaconda3\\lib\\site-packages\\keras\\backend\\tensorflow_backend.py:3445: calling dropout (from tensorflow.python.ops.nn_ops) with keep_prob is deprecated and will be removed in a future version.\n",
      "Instructions for updating:\n",
      "Please use `rate` instead of `keep_prob`. Rate should be set to `rate = 1 - keep_prob`.\n"
     ]
    },
    {
     "data": {
      "text/plain": [
       "'5X~###mucgulg#/c+\"d2c \"A\"A2A/2B/2c/2|\\n\"D\"def \"A\"ede|\"Bm\"fdB \"E7\"e2d|\"A\"cAA AAc|\"Bm\"dcd \"E7\"B2d|\"A\"cAA A3||\\n\\n\\nX: 133\\nT:Wonmon By On The Hance\\n% Nottingham Music Database\\nS:Chris Dewhurst 1980, via Phil Rowe\\nM:6/8\\nK:F\\n\"C7\"A2B |\"F\"cac \"C7\"BgB|\"F\"A2f c2B|\"F\"A^GA \"Gm\"dB=B|\"C\"c3 -c2:|\\n\\n\\nX: 175\\nT:Lue\\'s Sasther\\n% Nottingham Music Database\\nS:EF\\nM:6/8\\nK:D\\nF|:S|\"D\"dcG FGF|\"D\"AGF \"A7\"ABc|\"G\"dcB \"D\"AGF|\"Em\"A2E \"A7\"E2B|\\n\"D\"AGF \"A7\"ABc|\"D\"def \"A7\"eag|\"D\"fdf \"A7\"ecA|\"D\"dAF D2||\\n\\n\\nX: 118\\nT:Heather Jig\\n% Nottingham Music Database\\nS:Trad, arr Phil Rowe\\nM:6/8\\nK:G\\nD|\"G\"G3 GAB|\"Am\"A3 \"D7\"ABc|\"G\"edd gdd|\"D7\"fed cBA|\"G\"GBd g2::\\nd|\"G\"edd edd|\"C\"ecG \"G\"BdB|\"C\"cAG \"A7\"E2G|\"D\"D3 -D2::\\nD|\"Em\"EGE DEG|\"Em\"BGE \"D\"FGA|\"Em\"B2E E2G|\"Em\"GEE \"E7\"EFG|\\n\"G\"BAB GBd|\"C\"ece g2e|\"G\"dBG \"Am\"A2A|\"G\"BAG G2::\\nEDDED E2D|FED DED|FED d2A|\"D\"GFD F,ED|\\n\"D\"DEF AGF|DFA AFA|\"Em\"B3 -\"A7\"ABc|\"D\"d3 -def||\\n\"G\"gfg bag|\"D\"faf def|\"Em\"gbg \"A7\"edc|\"D\"d3 -d2:|\\n\\n\\nX: 294\\nT:Scoadie\\'s Jig\\n% Nottingham Music Database\\nS:High Barwell, via Phil Rowe\\nM:6/8\\nK:A\\n\"A\"c3 -\"A\"e3|\"D\"f2d \"E7\"g2f|\"A\"e2c A2c|\"Bm\"d2d \"E7\"c2B|\\n\"A\"A2A GFE|\"D\"F2A d2e|\"D\"f2f \"A\"ecA|\"E7\"BAG E2:|\\n\\n\\nX: 232\\nT:Oran Darlon Jig\\n% Nottingham Music Database\\nY:AABBCC\\nS:Kevin Briggs, via EF\\nM:6/8\\nK:G\\nP:A\\n|:g/2A/2|\"G\"B2B B^AB|\"D7\"c2B c2A|\"G\"ded \"D7\"c2B|\"G\"G3 G2:|\\n\\n\\nX: 126\\nT:Hugh\\'s Favourite\\n% Nottingham Music Database\\nS:NPTB, via EF\\nY:AB\\nM:6/8\\nK:G\\nP:A\\nd/2d/2|\"G\"dBB BAG|\"D7\"ABA ABd|\"G\"gBB \"D7\"edc|\"G\"BGG G2:|\\nP:B\\nG/2A/2|\"G\"BGB \"D7\"AGF|\"G\"DGB dBG|\"G\"DGG BAG|\"G\"BGB dcB|\\n\"C\"cAG AGG|\"C\"EGG AGE|\"C\"CEG \"D7\"FGA|\"G\"BAG G2:|\\n\\n\\nX: 319\\nT:The Wever and Mandic\\n% Nottingham Music Database\\nS:Dennis Salter, via Phil Rowe\\nM:6/8\\nK:D\\nP:A\\nd|\"D\"\"A7\"c2B c2d|\"D\"e2d \"Bm\"A2F|\"Em\"G2B \"A7\"Adc|\"D\"d3 -d3::\\n\"D\"f3 d2e|\"D\"fgf fed|\"G\"Bcd \"D\"A3|\"G\"Bcd \"A7\"edc|\"D\"d3 -d2:|\\n\\n\\nX: 21\\nT:Blackberry Quadrille\\n% Nottingham Music Database\\nS:Kevin Briggs, via EF\\nY:AB\\nM:6/8\\nK:G\\nP:A\\nd|\"C\"cac \"G\"BdB|\"Em\"G2A G2e|\"Em\"dcB \"Am\"A2G|\"Dm\"FGA \"G\"G2:|\\nK:D\\nP:B\\n|:F/2G/2|\"D\"A2d \"A\"cdc|\"G\"B2d \"D/f+\"Add|\"G\"B2d \"D/f+\"Add|\"Em\"e3 -e2:|\\nP:B\\nf/2g/2|\"D\"afd dcd|\"G\"BG \"D/f+\"A2A|\"G\"Bcd \"A7\"efg|\"D\"fdd d2:|\\nP:B\\nf/2g/2|\"D\"afd dfa|\"G\"gec \"A7\"ceg|\"D\"fed d2:|\\n\\n\\nX: 323\\nT:The Sadelch Rafe\\n% Nottingham Music Database\\nS:EF\\nY:AB\\nM:4/4\\nK:C\\nM:6/8\\nP:A\\nf|\"G\"gfg dcB|\"C\"cAe \"G\"ded|\"C\"c3 cBc|\"G7\"BdB GAB|\"C\"G3 -G2:|\\nP:B\\n|:\"G\"DGD G2d|\"C\"edc \"G\"BAG|\"Am\"FAA eec|\"Gm\"BAG \"C7\"A3|\\n\"Am\"AAA eAg|\"Dm\"dAd fed|\"C\"edc \"G7\"=cAc|\"Am\"cAA A2:|\\nP:B\\nB|\"C\"c3 cde|\"G7\"d2B Acd|\"C\"c2c edc|\"G\"Bdg dBG|\\n\"C\"c2c edc|\"G\"deg \"G7\"a2g|\"C\"ece \"C/e\"gec|\"G7\"a2g \"C\"a3|\\n\"C\"gec \"G7\"GdB|\"C\"cdc \"G7\" c2B|\"C\"cec \"Gm\"dcB|\"C\"cAB \"C\"c3:|\\n\\n\\nX: 259\\nT:Rock Pinchand\\n% Nottingham Music Database\\nS:EF\\nY:AB\\nM:4/4\\nK:G\\nM:6/8\\nP:A\\nd/2e/2|\"G\"dBg dBG|\"G\"BAG \"D7\"GGA|\"G\"BAB \"D7\"dcB|\"G\"G3 -G2:|\\nP:B\\n|:A/2d/2|\"G\"gBG \"D7\"cAF|\"G\"GBd gdB|\"C\"cBc GEG|\"Am\"BAA A2:|\\nP:B\\n|:e|\"D\"dcd fdd|\"G\"Bcd edc|\"G\"BAG GBd|\"C\"ecA A2c|\\n\"G\"BAG DGG|\"G\"DGB dcB|\"C\"cGG \"C\"EGE|\"Am\"EGE \"D7\"E2D|\\n\"G\"GGG \"D7/a\"GAB|\"G/b\"dBd \"C\"g3|\"G\"d2e dBd|\"C\"edB \"D\"A2-A|\\n\"Em\"GBd g2d|\"G\"Bdd \"A7/e\"gfg|\"D/f+\"edd \"G\"dBG|\"D7\"FAA \"G\"G2:|\\n\\n\\nX: 151\\nT:Joy of Dach\\n% Nottingham '"
      ]
     },
     "execution_count": 1,
     "metadata": {},
     "output_type": "execute_result"
    }
   ],
   "source": [
    "from generate import generate\n",
    "generate()"
   ]
  },
  {
   "cell_type": "code",
   "execution_count": null,
   "metadata": {},
   "outputs": [],
   "source": []
  }
 ],
 "metadata": {
  "kernelspec": {
   "display_name": "Python 3",
   "language": "python",
   "name": "python3"
  },
  "language_info": {
   "codemirror_mode": {
    "name": "ipython",
    "version": 3
   },
   "file_extension": ".py",
   "mimetype": "text/x-python",
   "name": "python",
   "nbconvert_exporter": "python",
   "pygments_lexer": "ipython3",
   "version": "3.6.5"
  }
 },
 "nbformat": 4,
 "nbformat_minor": 2
}
